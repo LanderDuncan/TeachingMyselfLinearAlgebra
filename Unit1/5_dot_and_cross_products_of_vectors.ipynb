{
 "cells": [
  {
   "attachments": {},
   "cell_type": "markdown",
   "metadata": {},
   "source": [
    "# Vector dot products\n",
    "\n",
    "The vector dot product is a scalar found by adding the product of each row of each vector together. For example, consider the two following vectors:\n",
    "\n",
    "$$\\begin{bmatrix}\n",
    "4\\\\\n",
    "6\n",
    "\\end{bmatrix}$$\n",
    "$$\\begin{bmatrix}\n",
    "5\\\\\n",
    "2\n",
    "\\end{bmatrix}$$\n",
    "\n",
    "The dot product of these two vectors would be:\n",
    " $$4*5 + 6*2 = 32$$\n",
    "\n",
    "Vector dot products are commutative, in other words, the order of multiplication does not matter.\n",
    "#### Dot Product Notation\n",
    "\n",
    "$$\\vec a \\cdot \\vec b $$\n",
    "\n",
    "# Vector Length\n",
    "The length of a vector is equal to the square root of all squared vector components:\n",
    "$$||\\vec a|| = \\sqrt{a_1^2+a_2^2...a_n^2}$$\n",
    "\n",
    "Vector length is represented with two straight lines $$||\\vec a||\n",
    "\n",
    "#### Dot Product Definition of Length\n",
    "$$||\\vec a|| = \\sqrt{\\vec a \\cdot \\vec a}$$\n",
    "\n",
    "#### Cauchy-Schwarz inequality\n",
    "The absolute value of the dot product of two vectors is less than or equal to the product of the two vector's lengths. x and y cannot be the zero vector.\n",
    "$$\\vec x, \\vec y, \\in \\mathbb{R}^n$$\n",
    "$$|\\vec x \\cdot \\vec  y | <= ||\\vec x||*||\\vec y ||$$\n",
    "\n",
    "The only time when these would be equal to each other is if x is colinear with y."
   ]
  }
 ],
 "metadata": {
  "language_info": {
   "name": "python"
  },
  "orig_nbformat": 4
 },
 "nbformat": 4,
 "nbformat_minor": 2
}
