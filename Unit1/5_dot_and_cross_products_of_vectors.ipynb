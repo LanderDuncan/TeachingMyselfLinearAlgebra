{
 "cells": [
  {
   "attachments": {},
   "cell_type": "markdown",
   "metadata": {},
   "source": [
    "# Vector dot products\n",
    "\n",
    "The vector dot product is a scalar found by adding the product of each row of each vector together. For example, consider the two following vectors:\n",
    "\n",
    "$$\\begin{bmatrix}\n",
    "4\\\\\n",
    "6\n",
    "\\end{bmatrix}$$\n",
    "$$\\begin{bmatrix}\n",
    "5\\\\\n",
    "2\n",
    "\\end{bmatrix}$$\n",
    "\n",
    "The dot product of these two vectors would be:\n",
    " $$4*5 + 6*2 = 32$$\n",
    "\n",
    "Vector dot products are commutative, in other words, the order of multiplication does not matter.\n",
    "#### Dot Product Notation\n",
    "\n",
    "$$\\vec a \\cdot \\vec b $$\n",
    "\n",
    "# Vector Length\n",
    "The length of a vector is equal to the square root of all squared vector components:\n",
    "$$l = \\sqrt{a_1^2+a_2^2...a_n^2}$$\n",
    "\n",
    "#### Dot Product Definition of Length\n",
    "$$l = \\sqrt{\\vec a \\cdot \\vec a}$$\n",
    "\n",
    "#### Cauchy-Schwarz inequality\n"
   ]
  }
 ],
 "metadata": {
  "language_info": {
   "name": "python"
  },
  "orig_nbformat": 4
 },
 "nbformat": 4,
 "nbformat_minor": 2
}
