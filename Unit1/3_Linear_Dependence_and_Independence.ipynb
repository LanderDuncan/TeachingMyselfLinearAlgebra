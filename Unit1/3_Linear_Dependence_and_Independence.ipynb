{
 "cells": [
  {
   "attachments": {},
   "cell_type": "markdown",
   "metadata": {},
   "source": [
    "### Linear dependency\n",
    "#### Formula definition\n",
    "s = { V<sub>1</sub>,V<sub>2</sub>,...V<sub>n</sub>} is linearly dependent if and only if cV<sub>1</sub>,cV<sub>2</sub>,...cV<sub>n</sub> = the zero vector for some c<sub>i</sub> where not all are equal to zero.\n",
    "<br>\n",
    "If a vector can be represented as a sum of any other vectors in the set, then the set is linearly dependent.\n",
    "<br>\n",
    "If the only way to make the set equal to the zero vector is by having all constants equal to zero, then the set is linearly independent.\n",
    "\n",
    "#### Explanation in R<sup>2</sup>\n",
    "A linearly dependent vector in a set is a vector that can be represented as a multiple of another vector in the set. Or in other words, a vector that is colinear to at least one other vector in the set. For example, consider the following two vectors:\n",
    "$$\\begin{bmatrix}\n",
    "2\\\\\n",
    "3\n",
    "\\end{bmatrix}$$\n",
    "$$\\begin{bmatrix}\n",
    "4\\\\\n",
    "6\n",
    "\\end{bmatrix}$$\n",
    "The second vector is equal to 2 times the first vector and is therefore colinear and linearly dependent on the first vector in the set.\n",
    "#### Extension to R<sup>n</sup>\n",
    "If the span of a set without a vector is equal to the span of a set with a vector then that vector is linearly dependent on the set. If you have two 3d vectors that are coplanar and the span of those two vectors is equal to R2 then the third vector cannot be coplanar with the other two or else the span would continue to equal R2 after adding the last vector. It would need to add more directionality and not be able to be represented by linear combinations of other vectors in the set.\n",
    "\n",
    "#### Linear independence\n",
    "If a vector cannot be represented by linear combinations of other vectors in a set then it is linearly independent."
   ]
  }
 ],
 "metadata": {
  "language_info": {
   "name": "python"
  },
  "orig_nbformat": 4
 },
 "nbformat": 4,
 "nbformat_minor": 2
}
