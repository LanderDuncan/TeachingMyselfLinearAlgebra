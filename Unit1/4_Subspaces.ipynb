{
 "cells": [
  {
   "attachments": {},
   "cell_type": "markdown",
   "metadata": {},
   "source": [
    "# Linear Subspaces\n",
    "### Formal definition\n",
    "In order for V to be a subspace of R<sup>n</sup> V must:\n",
    "1. contain the zero vector.\n",
    "2. For all vectors x in v cx must also be in v. (Closure under scalar multiplication).\n",
    "3. For all vectors a and b in v the vector a+b must also be in v. (Closure under addition).\n",
    "\n",
    "### Subspace examples\n",
    "##### A set containing only the zero vector is a subspace because:\n",
    "\n",
    "It contains the zero vector.<br>\n",
    "Any scalar multiplied by the zero vector is the zero vector.<br>\n",
    "The zero vector added to itself is the zero vector.\n",
    "<br><br>\n",
    "##### A set containing the span of n vectors is a subspace because:\n",
    "\n",
    "Zero times each vector in the span equals the zero vector.<br>\n",
    "All vectors in the span are already multiplied by a constant so they are by definition closed under multiplication.<br>\n",
    "Any combination of vectors in the span will simplify down to adding the constants which means it is closed under addition.<br>\n",
    "\n",
    "##### Standard basis\n",
    "The standard basis for R<sup>2</sup> (Which is a subspace of itself) utilizes the set of the following vectors:\n",
    "\n",
    "$$\\begin{bmatrix}\n",
    "0\\\\\n",
    "1\n",
    "\\end{bmatrix}$$\n",
    "$$\\begin{bmatrix}\n",
    "1\\\\\n",
    "0\n",
    "\\end{bmatrix}$$\n",
    "\n",
    "## Basis of a Linear Subspace\n",
    "#### Formal definition\n",
    "If v is a subspace of n vectors defined as Span(V<sub>1</sub>,V<sub>2</sub>...V<sub>n</sub>) Then the set S of all n vectors, assuming they are linearly independent, is the basis for V.\n",
    "#### Explanation\n",
    "The minimum amount of vectors required to span the subspace"
   ]
  }
 ],
 "metadata": {
  "language_info": {
   "name": "python"
  },
  "orig_nbformat": 4
 },
 "nbformat": 4,
 "nbformat_minor": 2
}
