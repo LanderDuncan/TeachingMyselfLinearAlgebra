{
 "cells": [
  {
   "attachments": {},
   "cell_type": "markdown",
   "metadata": {},
   "source": [
    "# Linear Subspaces\n",
    "### Formal definition\n",
    "In order for V to be a subspace of R<sub>n</sub> V must:\n",
    "1. contain the zero vector.\n",
    "2. For all vectors x in v cx must also be in v. (Closure under scalar multiplication).\n",
    "3. For all vectors a and b in v the vector a+b must also be in v. (Closure under addition).\n",
    "\n",
    "### Subspace examples\n",
    "##### A set containing only the zero vector is a subspace because:\n",
    "\n",
    "It contains the zero vector.<br>\n",
    "Any scalar multiplied by the zero vector is the zero vector.<br>\n",
    "The zero vector added to itself is the zero vector.\n",
    "<br><br>\n",
    "##### A set containing the span of n vectors is a subspace because:\n",
    "\n",
    "Zero times each vector in the span equals the zero vector.<br>\n",
    "All vectors in the span are already multiplied by a constant so they are by definition closed under multiplication.<br>\n",
    "Any combination of vectors in the span will simplify down to adding the constants which means it is closed under addition.<br>\n",
    "\n",
    "## Basis of a Linear Subspace"
   ]
  }
 ],
 "metadata": {
  "language_info": {
   "name": "python"
  },
  "orig_nbformat": 4
 },
 "nbformat": 4,
 "nbformat_minor": 2
}
