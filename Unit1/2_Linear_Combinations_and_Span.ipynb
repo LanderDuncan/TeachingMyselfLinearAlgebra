{
 "cells": [
  {
   "attachments": {},
   "cell_type": "markdown",
   "metadata": {},
   "source": [
    "Linear combinations of vectors - any combination of any amout of vectors multiplied by any contant.\n",
    "\n",
    "For example, given the following two vectors a and b:\n",
    "$$\\begin{bmatrix}\n",
    "1\\\\\n",
    "2\n",
    "\\end{bmatrix}$$\n",
    "$$\\begin{bmatrix}\n",
    "0\\\\\n",
    "3\n",
    "\\end{bmatrix}$$\n",
    "A linear combination could look like this:\n",
    "$$ 3\\vec a + -2\\vec b$$\n",
    "Which simplifies to:\n",
    "$$\\begin{bmatrix}\n",
    "3\\\\\n",
    "0\n",
    "\\end{bmatrix}$$\n",
    "Any vector in R<sup>n</sup> can be represented as some linear combination of two or more vectors in the same space. Or in other words: Span(vector a, vector b) = R<sup>2</sup>\n",
    "@10:04"
   ]
  }
 ],
 "metadata": {
  "language_info": {
   "name": "python"
  },
  "orig_nbformat": 4
 },
 "nbformat": 4,
 "nbformat_minor": 2
}
