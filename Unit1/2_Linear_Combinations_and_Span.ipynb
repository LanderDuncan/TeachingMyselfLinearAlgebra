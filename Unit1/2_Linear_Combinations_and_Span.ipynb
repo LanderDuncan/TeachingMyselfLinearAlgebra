{
 "cells": [
  {
   "attachments": {},
   "cell_type": "markdown",
   "metadata": {},
   "source": [
    "### Linear combinations of vectors\n",
    "Linear combinations of vectors are any combination of any amount of vectors multiplied by any constant.\n",
    "\n",
    "For example, given the following two vectors a and b:\n",
    "$$\\begin{bmatrix}\n",
    "1\\\\\n",
    "2\n",
    "\\end{bmatrix}$$\n",
    "$$\\begin{bmatrix}\n",
    "0\\\\\n",
    "3\n",
    "\\end{bmatrix}$$\n",
    "A linear combination could look like this:\n",
    "$$ 3\\vec a + -2\\vec b$$\n",
    "Which simplifies to:\n",
    "$$\\begin{bmatrix}\n",
    "3\\\\\n",
    "0\n",
    "\\end{bmatrix}$$\n",
    "### Span\n",
    "All linear combinations of a group of vectors:\n",
    "$$Span(v1, v2... vn) = \\{c_1v_1 + c_2v_2... c_nv_n | c \\in \\mathbb{R}\\}$$\n",
    "#### Common spans\n",
    "Any vector in R<sup>n</sup> can be represented as some linear combination of two or more non-colinear vectors in the same space. Or in other words: Span(vector a, vector b) = R<sup>2</sup> if a & b are not colinear.\n",
    "<br>\n",
    "The span of one vector or multiple colinear vectors is the line with the slope of those vectors.\n",
    "<br>\n",
    "The span of the zero vector is the zero vector.\n",
    "<br>\n"
   ]
  }
 ],
 "metadata": {
  "language_info": {
   "name": "python"
  },
  "orig_nbformat": 4
 },
 "nbformat": 4,
 "nbformat_minor": 2
}
